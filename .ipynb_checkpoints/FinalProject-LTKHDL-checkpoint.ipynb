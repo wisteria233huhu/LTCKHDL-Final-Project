{
 "cells": [
  {
   "cell_type": "markdown",
   "metadata": {},
   "source": [
    "# FINAL PROJECT\n",
    "\n",
    "Người thực hiện\n",
    "\n",
    "    Họ tên: Nguyễn Đình Tuyên. MSSV: 1712888\n",
    "\n",
    "    Họ tên: Đặng Đỗ Huỳnh Như. MSSV: 18120219"
   ]
  },
  {
   "cell_type": "markdown",
   "metadata": {},
   "source": [
    "## Import các thư viện cần thiết"
   ]
  },
  {
   "cell_type": "code",
   "execution_count": null,
   "metadata": {},
   "outputs": [],
   "source": [
    "import numpy as np\n",
    "import pandas as pd\n",
    "import matplotlib.pyplot as plt"
   ]
  },
  {
   "cell_type": "markdown",
   "metadata": {},
   "source": [
    "## 1. Thu thập dữ liệu"
   ]
  },
  {
   "cell_type": "markdown",
   "metadata": {},
   "source": [
    "- Dữ liệu trong file \"data_scientist_salary.csv\" được lấy trên kaggle mô tả về mức lương của nhà khoa học dữ liệu tại các bang của nước Mỹ. "
   ]
  },
  {
   "cell_type": "markdown",
   "metadata": {},
   "source": [
    "- License của dữ liệu là CC0: Public domain. Do đó, dữ liệu cho phép sử dụng."
   ]
  },
  {
   "cell_type": "markdown",
   "metadata": {},
   "source": [
    "- Dữ liệu được thu thập từ trang web GlassDoor bằng cách sử dụng trình quét Selenium."
   ]
  },
  {
   "cell_type": "markdown",
   "metadata": {},
   "source": [
    "## 2. Khám phá dữ liệu"
   ]
  },
  {
   "cell_type": "markdown",
   "metadata": {},
   "source": [
    "### Đọc dữ liệu từ file csv vào dataframe"
   ]
  },
  {
   "cell_type": "code",
   "execution_count": null,
   "metadata": {
    "scrolled": true
   },
   "outputs": [],
   "source": [
    "ds_salary_df = pd.read_csv('data_scientist_salary.csv')\n",
    "ds_salary_df.head()"
   ]
  },
  {
   "cell_type": "markdown",
   "metadata": {},
   "source": [
    "- Bỏ cột **index**, sử dụng theo index của pandas, vì theo quan sát ta thấy cột này chỉ chỉ mục của dòng nhưng lại không liên tục."
   ]
  },
  {
   "cell_type": "code",
   "execution_count": null,
   "metadata": {},
   "outputs": [],
   "source": [
    "ds_salary_df = ds_salary_df.drop(columns = ['index'])"
   ]
  },
  {
   "cell_type": "markdown",
   "metadata": {},
   "source": [
    "### Dữ liệu có bao nhiêu dòng và bao nhiêu cột?"
   ]
  },
  {
   "cell_type": "markdown",
   "metadata": {},
   "source": [
    "- Biến num_rows và num_columns chỉ số dòng và số cột của dữ liệu"
   ]
  },
  {
   "cell_type": "code",
   "execution_count": null,
   "metadata": {},
   "outputs": [],
   "source": [
    "num_rows = len(ds_salary_df)\n",
    "num_columns = len(ds_salary_df.columns)\n",
    "num_rows, num_columns"
   ]
  },
  {
   "cell_type": "markdown",
   "metadata": {},
   "source": [
    "- Dữ liệu có 742 dòng và 42 cột"
   ]
  },
  {
   "cell_type": "markdown",
   "metadata": {},
   "source": [
    "### Mỗi dòng có ý nghĩa gì? Có vấn đề các dòng có ý nghĩa khác nhau không?"
   ]
  },
  {
   "cell_type": "markdown",
   "metadata": {},
   "source": [
    "- Mỗi dòng có thông tin về mức lương tối thiểu, mức lương tối đa, mô tả về công việc, công ty,... liên quan đến nhà khoa học dữ liệu. Theo quan sát sơ bộ và mô tả về dữ liệu thì không có dòng nào có ý nghĩa khác."
   ]
  },
  {
   "cell_type": "markdown",
   "metadata": {},
   "source": [
    "### Dữ liệu có các dòng bị lặp không?"
   ]
  },
  {
   "cell_type": "markdown",
   "metadata": {},
   "source": [
    "- Biến duplicated_rows dùng để kiểm tra có dòng lặp hay không bằng phương thức duplicated của pandas, trả về True nếu bị lặp, ngược lại là False."
   ]
  },
  {
   "cell_type": "code",
   "execution_count": null,
   "metadata": {
    "scrolled": false
   },
   "outputs": [],
   "source": [
    "duplicated_rows = ds_salary_df.duplicated().any()\n",
    "duplicated_rows"
   ]
  },
  {
   "cell_type": "markdown",
   "metadata": {},
   "source": [
    "- Do dữ liệu có dòng bị lặp nên mình tiến hành loại bỏ các dòng bị lặp, chỉ giữ lại dòng đầu tiên."
   ]
  },
  {
   "cell_type": "code",
   "execution_count": null,
   "metadata": {},
   "outputs": [],
   "source": [
    "ds_salary_df = ds_salary_df.drop_duplicates()\n",
    "ds_salary_df.shape"
   ]
  },
  {
   "cell_type": "markdown",
   "metadata": {},
   "source": [
    "### Mỗi cột có ý nghĩa gì?"
   ]
  },
  {
   "cell_type": "markdown",
   "metadata": {},
   "source": [
    "Dưới đây là phần mô tả về các cột trong file \"data_scientist_salary\":\n",
    "- **Job title**: Chức danh của công việc, ví dụ: Data scientist, junior data scientist, senior data scientist, ...\n",
    "- **Salary Estimate**: Khoảng lương và nguồn lấy thông tin.\n",
    "- **Job Description**: Mô tả chung về công việc, cho biết các yêu cầu kỹ năng mà công ty mong muốn và những việc mà người trúng tuyển sẽ đảm nhiệm.\n",
    "- **Rating**: Điểm đánh giá cho công ty.\n",
    "- **Company Name**: Tên công ty.\n",
    "- **Location**: Địa điểm làm việc.\n",
    "- **Headquarters**: Địa điểm trụ sở chính của công ty.\n",
    "- **Size**: Quy mô nhân lực của công ty.\n",
    "- **Founded**: Năm thành lập công ty. \n",
    "- **Type of ownership**: Cho biết đây là công ty tư nhân, đại chúng hay thuộc nhà nước. \n",
    "- **Industry**: Cho biết hoạt động kinh doanh của công ty thuộc ngành công nghiệp nào, ví dụ: công nghệ thông tin, công nghiệp dược phẩm, ... \n",
    "- **Sector**: Lĩnh vực mà công ty hoạt động.\n",
    "- **Revenue**: Tổng số doanh thu hàng năm của công ty. \n",
    "- **Competitors**: Cho biết những đối thủ cạnh tranh hiện tại của công ty. \n",
    "- **Hourly**: Có giá trị 1 nếu mức lương được báo cáo theo giờ và có giá trị là 0 ở các trường hợp còn lại.\n",
    "- **Employer provided**: Có giá trị là 1 nếu mức lương được cung cấp bởi nhà tuyển dụng và có giá trị là 0 ở các trường hợp còn lại.\n",
    "- **Lower Salary**: Mức lương tối thiểu cho công việc này của công ty.\n",
    "- **Upper Salary**: Mức lương tối đa cho công việc này của công ty.\n",
    "- **Avg Salary(K)**: Mức lương trung bình cho công việc này của công ty.\n",
    "- **company_txt**: Chứa tên công ty.\n",
    "- **Job Location**: Tên viết tắt của vị trí công ty (bang).\n",
    "- **Age**: Tuổi của công ty (tính theo năm).\n",
    "- **Python -> google_an**: Có giá trị là 1 nếu công việc đòi hỏi kỹ năng ..., ngược lại có giá trị 0.\n",
    "- **job_title_sim**: Tên đơn giản của chức danh công việc.\n",
    "- **seniority_by_title**: Có chữ senior trong chức danh.\n",
    "- **Degree**: Có giá trị M nếu công việc yêu cầu bằng cấp hoặc số năm kinh nghiệm; có giá trị P trong các trường hợp còn lại."
   ]
  },
  {
   "cell_type": "markdown",
   "metadata": {},
   "source": [
    "**Nhận xét**\n",
    "- Ở đây có quá nhiều cột dữ liệu, vì vậy để dễ dàng theo dõi và nhận xét thì ta sẽ bỏ bớt các cột không cần thiết ví dụ như:\n",
    "    - Bỏ các cột có thông tin ngoài lề như: **Headquarters**(vị trí trụ sở), **Competitors**(Đối thủ cạnh tranh của cty), **Hourly**(lương theo giờ hay không), **Employer provided**(thông tin do nhân viên cung cấp hay không).\n",
    "    - Bỏ cột trùng dữ liệu: **company_txt**(tên của công ty) trùng với Company Name."
   ]
  },
  {
   "cell_type": "code",
   "execution_count": null,
   "metadata": {},
   "outputs": [],
   "source": [
    "ds_salary_df = ds_salary_df.drop(columns = ['Headquarters','Competitors','Hourly', \\\n",
    "                                            'Employer provided','company_txt'])\n",
    "ds_salary_df.shape"
   ]
  },
  {
   "cell_type": "markdown",
   "metadata": {},
   "source": [
    "### Mỗi cột hiện đang có kiểu dữ liệu gì? Có cột nào có kiểu dữ liệu chưa phù hợp để có thể xử lý tiếp không?"
   ]
  },
  {
   "cell_type": "markdown",
   "metadata": {},
   "source": [
    "- Dùng chức năng dtypes để xem kiểu dữ liệu của các cột."
   ]
  },
  {
   "cell_type": "code",
   "execution_count": null,
   "metadata": {
    "scrolled": true
   },
   "outputs": [],
   "source": [
    "col_dtypes = ds_salary_df.dtypes\n",
    "col_dtypes"
   ]
  },
  {
   "cell_type": "markdown",
   "metadata": {},
   "source": [
    "- Các cột có kiểu dữ liệu đã phù hợp ngoại trừ cột **Founded**: dùng để chỉ năm thành lập của công ty, nên chuyển thành datetime với format là '%Y'.\n",
    "- Tuy nhiên khi xử lý sẽ gặp lỗi bởi vì các giá trị thiếu được điền là '-1'. Vì vậy để dễ xử lý ta cần thay đổi các giá trị '-1' thành np.NaN."
   ]
  },
  {
   "cell_type": "code",
   "execution_count": null,
   "metadata": {},
   "outputs": [],
   "source": [
    "ds_salary_df = ds_salary_df.replace(-1, np.NaN)\n",
    "ds_salary_df['Founded'] = pd.to_datetime(ds_salary_df['Founded'],format = '%Y')\n",
    "ds_salary_df['Founded'].head()"
   ]
  },
  {
   "cell_type": "markdown",
   "metadata": {},
   "source": [
    "### Với mỗi cột có kiểu dữ liệu dạng số (numerical), các giá trị được phân bố như thế nào?\n",
    "(tính tỉ lệ các giá trị thiếu, min/max của các cột có kiểu dữ liệu dạng số)"
   ]
  },
  {
   "cell_type": "markdown",
   "metadata": {},
   "source": [
    "Vì các cột từ Python -> google_an: chỉ gồm 1 nếu công việc yêu cầu skill này hoặc ngược lại là 0 cho nên ta không cần xét sự phân bố các cột này. Các cột có kiểu dữ liệu dạng số (numerical) cần xét còn lại là: **\"Rating\", \"Lower Salary\", \"Upper Salary\", \"Avg Salary(K)\", \"Age\"**. \n",
    "\n",
    "Với mỗi cột này ta tính phần trăm các giá trị thiếu, min, max bằng cách dùng cấu trúc agg để tổng hợp các tính năng tính giá trị trong mỗi cột."
   ]
  },
  {
   "cell_type": "code",
   "execution_count": null,
   "metadata": {
    "scrolled": true
   },
   "outputs": [],
   "source": [
    "numerical_df = ds_salary_df[[\"Rating\", \"Lower Salary\", \"Upper Salary\", \"Avg Salary(K)\", \"Age\"]]\n",
    "def missing_ratio(x):\n",
    "    return x.isna().mean() * 100\n",
    "\n",
    "numerical_df = numerical_df.agg([missing_ratio, pd.Series.min, pd.Series.max])\n",
    "numerical_df"
   ]
  },
  {
   "cell_type": "markdown",
   "metadata": {},
   "source": [
    "- Ta có thể thấy min/max các cột không có gì bất thường, ngoại trừ Age của 1 công ty có tuổi '277'?"
   ]
  },
  {
   "cell_type": "markdown",
   "metadata": {},
   "source": [
    "### Với mỗi cột có kiểu dữ liệu dạng phân loại (categorical), các giá trị được phân bố như thế nào?\n",
    "(tính tỉ lệ các giá trị thiếu, số lượng các giá trị khác nhau, show một vài giá trị)"
   ]
  },
  {
   "cell_type": "markdown",
   "metadata": {},
   "source": [
    "Theo như quan sát và tìm hiểu dữ liệu thì các cột categorical của dữ liệu trên sẽ là các cột có dtypes là object.\n",
    "\n",
    "Tuy nhiên: \n",
    "- Ở các cột **seniority_by_title**, **Degree** thì các giá trị thiếu được điền là na -> cần chuyển thành np.NaN để có thể hoạt động tốt trên các hàm của pandas.\n",
    "- Ở cột **Revenue** thì các giá trị thiếu được điền là Unknown -> cần chuyển thành np.NaN"
   ]
  },
  {
   "cell_type": "code",
   "execution_count": null,
   "metadata": {},
   "outputs": [],
   "source": [
    "ds_salary_df = ds_salary_df.replace(['na', 'Unknown / Non-Applicable'], np.NaN)"
   ]
  },
  {
   "cell_type": "code",
   "execution_count": null,
   "metadata": {
    "scrolled": true
   },
   "outputs": [],
   "source": [
    "columns_cate = list(ds_salary_df.dtypes[ds_salary_df.dtypes == 'object'].index)\n",
    "categorical_df = ds_salary_df[columns_cate]\n",
    "def diff_vals(s):\n",
    "    return s.dropna().unique()\n",
    "def num_diff_vals(s):\n",
    "    return s.nunique()\n",
    "categorical_df = categorical_df.agg([missing_ratio,num_diff_vals,diff_vals])\n",
    "categorical_df"
   ]
  },
  {
   "cell_type": "markdown",
   "metadata": {},
   "source": [
    "## 3. Đưa ra các câu hỏi có ý nghĩa cần trả lời"
   ]
  },
  {
   "cell_type": "markdown",
   "metadata": {},
   "source": [
    "### Câu hỏi 1: "
   ]
  },
  {
   "cell_type": "markdown",
   "metadata": {},
   "source": [
    "- Trả lời được có lợi ích gì?"
   ]
  },
  {
   "cell_type": "markdown",
   "metadata": {},
   "source": [
    "### Câu hỏi 2:"
   ]
  },
  {
   "cell_type": "markdown",
   "metadata": {},
   "source": [
    "- Trả lời được có lợi ích gì?"
   ]
  },
  {
   "cell_type": "markdown",
   "metadata": {},
   "source": [
    "## 4. Tiền xử lý và phân tích dữ liệu để trả lời các câu hỏi"
   ]
  },
  {
   "cell_type": "markdown",
   "metadata": {},
   "source": [
    "## Câu hỏi 1:"
   ]
  },
  {
   "cell_type": "markdown",
   "metadata": {},
   "source": [
    "### Tiền xử lý\n",
    "- Các bước thực hiện:"
   ]
  },
  {
   "cell_type": "code",
   "execution_count": null,
   "metadata": {},
   "outputs": [],
   "source": [
    "#Code"
   ]
  },
  {
   "cell_type": "markdown",
   "metadata": {},
   "source": [
    "### Phân tích dữ liệu\n",
    "- Các bước thực hiện:"
   ]
  },
  {
   "cell_type": "code",
   "execution_count": null,
   "metadata": {},
   "outputs": [],
   "source": [
    "#Code"
   ]
  },
  {
   "cell_type": "markdown",
   "metadata": {},
   "source": [
    "## Câu hỏi 2:"
   ]
  },
  {
   "cell_type": "markdown",
   "metadata": {},
   "source": [
    "### Tiền xử lý\n",
    "- Các bước thực hiện:"
   ]
  },
  {
   "cell_type": "code",
   "execution_count": null,
   "metadata": {},
   "outputs": [],
   "source": [
    "#Code"
   ]
  },
  {
   "cell_type": "markdown",
   "metadata": {},
   "source": [
    "### Phân tích dữ liệu\n",
    "- Các bước thực hiện:"
   ]
  },
  {
   "cell_type": "code",
   "execution_count": null,
   "metadata": {},
   "outputs": [],
   "source": [
    "#Code"
   ]
  },
  {
   "cell_type": "markdown",
   "metadata": {},
   "source": [
    "## 5. Nhìn lại quá trình làm đồ án"
   ]
  },
  {
   "cell_type": "markdown",
   "metadata": {},
   "source": [
    "- TV1 : Những khó khăn?\n",
    "        Học được gì?"
   ]
  },
  {
   "cell_type": "markdown",
   "metadata": {},
   "source": [
    "- TV2: Những khó khăn?\n",
    "        Học được gì?"
   ]
  },
  {
   "cell_type": "markdown",
   "metadata": {},
   "source": [
    "- Nhóm: nếu có thêm thời gian thì sẽ làm gì?"
   ]
  },
  {
   "cell_type": "markdown",
   "metadata": {},
   "source": [
    "## 6. Tài liệu tham khảo"
   ]
  },
  {
   "cell_type": "code",
   "execution_count": null,
   "metadata": {},
   "outputs": [],
   "source": []
  }
 ],
 "metadata": {
  "kernelspec": {
   "display_name": "Python 3",
   "language": "python",
   "name": "python3"
  },
  "language_info": {
   "codemirror_mode": {
    "name": "ipython",
    "version": 3
   },
   "file_extension": ".py",
   "mimetype": "text/x-python",
   "name": "python",
   "nbconvert_exporter": "python",
   "pygments_lexer": "ipython3",
   "version": "3.8.3"
  }
 },
 "nbformat": 4,
 "nbformat_minor": 5
}
